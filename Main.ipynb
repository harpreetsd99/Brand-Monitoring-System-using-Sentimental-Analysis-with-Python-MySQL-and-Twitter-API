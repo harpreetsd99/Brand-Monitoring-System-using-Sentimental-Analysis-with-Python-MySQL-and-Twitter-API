{
 "cells": [
  {
   "cell_type": "code",
   "execution_count": 1,
   "metadata": {
    "ExecuteTime": {
     "end_time": "2021-05-22T10:33:49.886440Z",
     "start_time": "2021-05-22T10:33:49.870436Z"
    }
   },
   "outputs": [],
   "source": [
    "# Imports\n",
    "# Extracting streaming data from Twitter, pre-processing, and loading into MySQL\n",
    "import credentials # Import api/access_token keys from credentials.py\n",
    "import settings # Import related setting constants from settings.py \n",
    "import os\n",
    "import psycopg2\n",
    "import re\n",
    "import tweepy\n",
    "import pandas as pd\n",
    "from textblob import TextBlob\n",
    "# Streaming With Tweepy \n",
    "# http://docs.tweepy.org/en/v3.4.0/streaming_how_to.html#streaming-with-tweepy\n",
    "\n",
    "\n",
    "# Override tweepy.StreamListener to add logic to on_status\n",
    "class MyStreamListener(tweepy.StreamListener):\n",
    "    '''\n",
    "    Tweets are known as “status updates”. So the Status class in tweepy has properties describing the tweet.\n",
    "    https://developer.twitter.com/en/docs/tweets/data-dictionary/overview/tweet-object.html\n",
    "    '''\n",
    "    \n",
    "    def on_status(self, status):\n",
    "        '''\n",
    "        Extract info from tweets using status\n",
    "        '''\n",
    "        \n",
    "        if status.retweeted:\n",
    "            # Avoid retweeted info, and only original tweets will be received\n",
    "            return True\n",
    "        # Extract attributes from each tweet\n",
    "        id_str = status.id_str\n",
    "        created_at = status.created_at\n",
    "        text = deEmojify(status.text)    # Pre-processing the text  \n",
    "        sentiment = TextBlob(text).sentiment\n",
    "        polarity = sentiment.polarity\n",
    "        subjectivity = sentiment.subjectivity\n",
    "        \n",
    "        user_created_at = status.user.created_at\n",
    "        user_location = deEmojify(status.user.location)\n",
    "        user_description = deEmojify(status.user.description)\n",
    "        user_followers_count =status.user.followers_count\n",
    "        longitude = None\n",
    "        latitude = None\n",
    "        if status.coordinates:\n",
    "            longitude = status.coordinates['coordinates'][0]\n",
    "            latitude = status.coordinates['coordinates'][1]\n",
    "            \n",
    "        retweet_count = status.retweet_count\n",
    "        favorite_count = status.favorite_count\n",
    "\n",
    "        \n",
    "        # Store all data in Heroku PostgreSQL\n",
    "        cur = conn.cursor()\n",
    "        sql = \"INSERT INTO {} (id_str, created_at, text, polarity, subjectivity, user_created_at, user_location, user_description, user_followers_count, longitude, latitude, retweet_count, favorite_count) VALUES (%s, %s, %s, %s, %s, %s, %s, %s, %s, %s, %s, %s, %s)\".format(settings.TABLE_NAME)\n",
    "        val = (id_str, created_at, text, polarity, subjectivity, user_created_at, user_location, \\\n",
    "            user_description, user_followers_count, longitude, latitude, retweet_count, favorite_count)\n",
    "        cur.execute(sql, val)\n",
    "        conn.commit()\n",
    "        \n",
    "# #         delete_query = '''\n",
    "# #         DELETE FROM {0}\n",
    "# #         WHERE id_str IN (\n",
    "# #             SELECT id_str \n",
    "# #             FROM {0}\n",
    "# #             ORDER BY created_at asc\n",
    "# #             LIMIT 200) AND (SELECT COUNT(*) FROM Facebook) > 9600;\n",
    "# #         '''.format(settings.TABLE_NAME)\n",
    "        \n",
    "#       cur.execute(delete_query)\n",
    "#       conn.commit()\n",
    "#        cur.close()\n",
    "    \n",
    "    \n",
    "    def on_error(self, status_code):\n",
    "        '''\n",
    "        Since Twitter API has rate limits, stop srcraping data as it exceed to the thresold.\n",
    "        '''\n",
    "        if status_code == 420:\n",
    "            # return False to disconnect the stream\n",
    "            return False\n",
    "\n",
    "def clean_tweet(self, tweet): \n",
    "    ''' \n",
    "    Use sumple regex statemnents to clean tweet text by removing links and special characters\n",
    "    '''\n",
    "    return ' '.join(re.sub(\"(@[A-Za-z0-9]+)|([^0-9A-Za-z \\t]) \\\n",
    "                                |(\\w+:\\/\\/\\S+)\", \" \", tweet).split()) \n",
    "def deEmojify(text):\n",
    "    '''\n",
    "    Strip all non-ASCII characters to remove emoji characters\n",
    "    '''\n",
    "    if text:\n",
    "        return text.encode('ascii', 'ignore').decode('ascii')\n",
    "    else:\n",
    "        return None\n",
    "\n",
    "\n",
    "DATABASE_URL = os.environ[\"DATABASE_URL\"]\n",
    "\n",
    "conn = psycopg2.connect(DATABASE_URL, sslmode='require')\n",
    "cur = conn.cursor()\n",
    "'''\n",
    "Check if this table exits. If not, then create a new one.\n",
    "'''\n",
    "\n",
    "# cur.execute(\"\"\"\n",
    "#         SELECT COUNT(*)\n",
    "#         FROM information_schema.tables\n",
    "#         WHERE table_name = '{0}'\n",
    "#         \"\"\".format(settings.TABLE_NAME))\n",
    "# if cur.fetchone()[0] != 1:\n",
    "#     cur.execute(\"CREATE TABLE {} ({});\".format(settings.TABLE_NAME, settings.TABLE_ATTRIBUTES))\n",
    "#     conn.commit()\n",
    "# cur.close()\n",
    "\n",
    "\n",
    "auth  = tweepy.OAuthHandler(credentials.API_key, credentials.API_key_secret)\n",
    "auth.set_access_token(credentials.Access_token, credentials.Access_token_secret)\n",
    "api = tweepy.API(auth)\n",
    "\n",
    "myStreamListener = MyStreamListener()\n",
    "myStream = tweepy.Stream(auth = api.auth, listener = myStreamListener)\n",
    "myStream.filter(languages=[\"en\"], track = settings.TRACK_WORDS)\n",
    "# Close the MySQL connection as it finished\n",
    "# However, this won't be reached as the stream listener won't stop automatically\n",
    "# Press STOP button to finish the process.\n",
    "# conn.close() "
   ]
  },
  {
   "cell_type": "code",
   "execution_count": null,
   "metadata": {
    "ExecuteTime": {
     "end_time": "2021-05-22T07:53:08.511764Z",
     "start_time": "2021-05-22T07:48:29.917Z"
    }
   },
   "outputs": [],
   "source": [
    "# delete from playstation where id_str in (select id_str from playstation order by created_at asc );"
   ]
  },
  {
   "cell_type": "code",
   "execution_count": null,
   "metadata": {},
   "outputs": [],
   "source": []
  }
 ],
 "metadata": {
  "kernelspec": {
   "display_name": "Python 3",
   "language": "python",
   "name": "python3"
  },
  "language_info": {
   "codemirror_mode": {
    "name": "ipython",
    "version": 3
   },
   "file_extension": ".py",
   "mimetype": "text/x-python",
   "name": "python",
   "nbconvert_exporter": "python",
   "pygments_lexer": "ipython3",
   "version": "3.8.3"
  },
  "toc": {
   "base_numbering": 1,
   "nav_menu": {},
   "number_sections": true,
   "sideBar": true,
   "skip_h1_title": false,
   "title_cell": "Table of Contents",
   "title_sidebar": "Contents",
   "toc_cell": false,
   "toc_position": {},
   "toc_section_display": true,
   "toc_window_display": false
  },
  "varInspector": {
   "cols": {
    "lenName": 16,
    "lenType": 16,
    "lenVar": 40
   },
   "kernels_config": {
    "python": {
     "delete_cmd_postfix": "",
     "delete_cmd_prefix": "del ",
     "library": "var_list.py",
     "varRefreshCmd": "print(var_dic_list())"
    },
    "r": {
     "delete_cmd_postfix": ") ",
     "delete_cmd_prefix": "rm(",
     "library": "var_list.r",
     "varRefreshCmd": "cat(var_dic_list()) "
    }
   },
   "types_to_exclude": [
    "module",
    "function",
    "builtin_function_or_method",
    "instance",
    "_Feature"
   ],
   "window_display": false
  }
 },
 "nbformat": 4,
 "nbformat_minor": 4
}
